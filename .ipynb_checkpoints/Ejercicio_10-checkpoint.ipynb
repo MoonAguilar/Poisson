{
 "cells": [
  {
   "cell_type": "markdown",
   "id": "97f8f0b0-5ccc-45b3-8734-68cfe9e44576",
   "metadata": {},
   "source": [
    "- [Menu](ejercicio_10_11_12.ipynb)\n",
    "- [siguiente Ejercicio](Ejercicio_11.ipynb)"
   ]
  },
  {
   "cell_type": "code",
   "execution_count": 9,
   "id": "84c9ec73-41c7-44be-a983-58034ccf36aa",
   "metadata": {},
   "outputs": [],
   "source": [
    "import matplotlib.pyplot as plt\n",
    "from scipy.stats import binom\n",
    "from scipy.stats import binom\n",
    "from IPython.display import display, Math"
   ]
  },
  {
   "cell_type": "markdown",
   "id": "e8da7523-614f-4063-8c57-4029a4b44c71",
   "metadata": {},
   "source": [
    "## Ejercicio 10. Sexualidad.\n",
    "#### Con base en la Encuesta Nacional de Juventud 2005, 90% de los adolescentes entre 15 y 19 años afirmó que tuvo su primera relación sexual antes de los 18 años. Si en un grupo hay 20 adolescentes entre 15 y 19 años, entonces:"
   ]
  },
  {
   "cell_type": "markdown",
   "id": "46a48605-27c2-407f-becc-4c2e484d622d",
   "metadata": {},
   "source": [
    "#### a) ¿Cuántos esperarías que contestaran que tuvieron su primera relación sexual antes de los 18 años?"
   ]
  },
  {
   "cell_type": "code",
   "execution_count": 10,
   "id": "b963aa39-58d3-4c32-b85d-2e8af4740266",
   "metadata": {},
   "outputs": [
    {
     "name": "stdout",
     "output_type": "stream",
     "text": [
      " Número esperado de adolescentes que contestan que sí: 18.0\n"
     ]
    }
   ],
   "source": [
    "n = 20     # número de adolescentes\n",
    "p = 0.90   # probabilidad de que un adolescente diga que tuvo su primera relación sexual antes de los 18\n",
    "\n",
    "# λ=n⋅p\n",
    "\n",
    "esperado = n * p\n",
    "print(f\" Número esperado de adolescentes que contestan que sí: {esperado}\")"
   ]
  },
  {
   "cell_type": "markdown",
   "id": "6e75ed4f-e786-4ea9-953c-c6ab5032e8ca",
   "metadata": {},
   "source": [
    "#### b) ¿Cuál es la probabilidad de que 12 de ellos digan que tuvieron su primera relación sexual antes de los 18 años?"
   ]
  },
  {
   "cell_type": "markdown",
   "id": "9fbecd19-bcc9-4a3d-84cc-939ebd43a684",
   "metadata": {},
   "source": [
    "\n",
    "La probabilidad de que ocurran exactamente \\( k \\) eventos es:\n",
    "$$\n",
    "P(X = k) = \\frac{e^{-\\lambda} \\cdot \\lambda^k}{k!}\n",
    "$$"
   ]
  },
  {
   "cell_type": "code",
   "execution_count": 28,
   "id": "2c163e4b-9408-4bde-a00f-3735c7d83263",
   "metadata": {},
   "outputs": [
    {
     "name": "stdout",
     "output_type": "stream",
     "text": [
      "P(X = 12) = 0.036782\n"
     ]
    }
   ],
   "source": [
    "\n",
    "# Parámetros de Poisson\n",
    "λ = 18   # valor esperado\n",
    "k = 12   # eventos que queremos calcular\n",
    "\n",
    "# Cálculo manual de la fórmula de Poisson\n",
    "poisson_manual = (math.exp(-λ) * λ**k) / math.factorial(k)\n",
    "\n",
    "print(f\"P(X = {k}) = {poisson_manual:.6f}\")\n"
   ]
  },
  {
   "cell_type": "markdown",
   "id": "6119a9b3-c6f7-4ea2-9021-3bd599a5dd30",
   "metadata": {},
   "source": [
    "#### c) ¿Cuál es la probabilidad de que más de 17 digan que tuvieron su primera relación sexual antes de los 18 años?"
   ]
  },
  {
   "cell_type": "code",
   "execution_count": 29,
   "id": "236726ae-7e43-4cb7-9ac8-e7a102d6883f",
   "metadata": {},
   "outputs": [
    {
     "name": "stdout",
     "output_type": "stream",
     "text": [
      " Probabilidad de que más de 17 digan que sí: 0.676927\n"
     ]
    }
   ],
   "source": [
    "from scipy.stats import binom\n",
    "\n",
    "n = 20\n",
    "p = 0.9\n",
    "\n",
    "# c) P(X > 17) = 1 - P(X ≤ 17)\n",
    "prob_mas_17 = 1 - binom.cdf(17, n, p)\n",
    "print(f\" Probabilidad de que más de 17 digan que sí: {prob_mas_17:.6f}\")\n"
   ]
  },
  {
   "cell_type": "markdown",
   "id": "6ea96cc4-7601-4e81-b9ce-9a674c2e2f95",
   "metadata": {},
   "source": [
    "#### d) Con tus compañeros de clase lleven a cabo una discusión sobre:"
   ]
  },
  {
   "cell_type": "markdown",
   "id": "98aa4b43-961e-47e6-9136-cf5fc84c9edd",
   "metadata": {},
   "source": [
    "\n",
    "#### 👉 Métodos anticonceptivos disponibles en el mercado:\n",
    "- **Métodos de barrera:** Condón masculino y femenino.\n",
    "- **Métodos hormonales:** Pastilla, parche, inyecciones, implante subdérmico.\n",
    "- **Métodos intrauterinos:** DIU (de cobre o hormonal).\n",
    "- **Métodos permanentes:** Vasectomía, salpingoclasia.\n",
    "- **Otros:** Método del ritmo, coito interrumpido (no recomendados por su baja efectividad).\n",
    "\n",
    "#### 👉 Enfermedades de transmisión sexual (ETS):\n",
    "- VIH/SIDA\n",
    "- Sífilis\n",
    "- Gonorrea\n",
    "- Clamidia\n",
    "- Herpes genital\n",
    "- Virus del papiloma humano (VPH)\n",
    "\n",
    "#### 👉 Consecuencias de no utilizar protección:\n",
    "- Embarazos no planeados.\n",
    "- Contagio de ETS.\n",
    "- Impacto emocional, psicológico y económico.\n",
    "- Afectaciones a la salud física.\n",
    "- Deserción escolar en jóvenes.\n",
    "\n",
    "> 💡 Reflexiona: ¿Cómo puedes tomar decisiones responsables sobre tu sexualidad? ¿Qué acciones podrías proponer para fomentar la educación sexual en tu entorno?\n"
   ]
  },
  {
   "cell_type": "code",
   "execution_count": null,
   "id": "fb4630f6-2345-4334-8b11-f81991cbd5fe",
   "metadata": {},
   "outputs": [],
   "source": []
  }
 ],
 "metadata": {
  "kernelspec": {
   "display_name": "Python 3 (ipykernel)",
   "language": "python",
   "name": "python3"
  },
  "language_info": {
   "codemirror_mode": {
    "name": "ipython",
    "version": 3
   },
   "file_extension": ".py",
   "mimetype": "text/x-python",
   "name": "python",
   "nbconvert_exporter": "python",
   "pygments_lexer": "ipython3",
   "version": "3.13.4"
  }
 },
 "nbformat": 4,
 "nbformat_minor": 5
}
