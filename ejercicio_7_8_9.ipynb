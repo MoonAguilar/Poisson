{
 "cells": [
  {
   "cell_type": "markdown",
   "id": "161e4619",
   "metadata": {},
   "source": [
    "# Índice de Ejercicios\n",
    "\n",
    "## Contenido\n",
    "- [Ejercicio 7](#ejercicio-7)\n",
    "- [Ejercicio 8](#ejercicio-8)\n",
    "- [Ejercicio 9](#ejercicio-9)\n",
    "- [Ir a index.html](index.html)"
   ]
  },
  {
   "cell_type": "code",
   "execution_count": 10,
   "id": "96951ea3",
   "metadata": {},
   "outputs": [],
   "source": [
    "import numpy as np\n",
    "import matplotlib.pyplot as plt\n",
    "from scipy.stats import poisson"
   ]
  },
  {
   "cell_type": "markdown",
   "id": "330a413f",
   "metadata": {},
   "source": [
    "## Ejercicio 7\n",
    "\n",
    "[**Siguiente →**](#ejercicio-8)"
   ]
  },
  {
   "cell_type": "markdown",
   "id": "2ba4f025",
   "metadata": {},
   "source": [
    "\n",
    "#### Según un anuncio comercial de colchones, 30% de los accidentes automovilísticos se deben a la falta de sueño. Supón que en un día cualquiera ocurren 10 accidentes automovilísticos."
   ]
  },
  {
   "cell_type": "code",
   "execution_count": 19,
   "id": "b89a1291",
   "metadata": {},
   "outputs": [],
   "source": [
    "# Parámetros\n",
    "n = 10\n",
    "p = 0.3\n",
    "lambda_ = n * p  # Tasa promedio de accidentes por falta de sueño\n",
    "k = list(range(n + 1))"
   ]
  },
  {
   "cell_type": "markdown",
   "id": "c211c076",
   "metadata": {},
   "source": [
    "a) Determina la distribución de probabilidad y traza la gráfica correspondiente."
   ]
  },
  {
   "cell_type": "code",
   "execution_count": null,
   "id": "09159cd5",
   "metadata": {},
   "outputs": [
    {
     "name": "stdout",
     "output_type": "stream",
     "text": [
      "Distribución de probabilidad\n",
      "----------------------------\n",
      "P(X = 0) = 0.02824752490000002\n",
      "P(X = 1) = 0.12106082099999992\n",
      "P(X = 2) = 0.23347444050000013\n",
      "P(X = 3) = 0.2668279319999998\n",
      "P(X = 4) = 0.2001209489999999\n",
      "P(X = 5) = 0.10291934519999989\n",
      "P(X = 6) = 0.03675690899999995\n",
      "P(X = 7) = 0.009001691999999993\n",
      "P(X = 8) = 0.0014467004999999984\n",
      "P(X = 9) = 0.00013778099999999985\n",
      "P(X = 10) = 5.904899999999999e-06\n"
     ]
    }
   ],
   "source": [
    "# Distribucion\n",
    "p= 0.3\n",
    "n= 10\n",
    "k= list (range(n+1))\n",
    "y= binom.pmf(k,n,p)\n",
    "print (\"Distribucion de probabilidad\")\n",
    "print (\"----------------------------\")\n",
    "for valor in k:\n",
    "    print (\"p(k+{})= {}\".format(k[valor], y [valor]))"
   ]
  },
  {
   "cell_type": "code",
   "execution_count": 13,
   "id": "c0b2a3be",
   "metadata": {},
   "outputs": [
    {
     "data": {
      "image/png": "[encoded data removed]",
      "text/plain": [
       "<Figure size 640x480 with 1 Axes>"
      ]
     },
     "metadata": {},
     "output_type": "display_data"
    }
   ],
   "source": [
    "# Trazar la gráfica\n",
    "plt.bar(k, y)\n",
    "plt.xlabel(\"Valores de k (número de accidentes)\")\n",
    "plt.ylabel(\"Probabilidades\")\n",
    "plt.title(\"Distribución de Poisson\")\n",
    "plt.show()"
   ]
  },
  {
   "cell_type": "markdown",
   "id": "539905ca",
   "metadata": {},
   "source": [
    "b) ¿Qué tipo de sesgo presenta la distribución?"
   ]
  },
  {
   "cell_type": "markdown",
   "id": "4339a39b",
   "metadata": {},
   "source": [
    "La distribución presenta un sesgo a la derecha si la mayoría de las probabilidades están en los valores bajos y la cola se extiende hacia la derecha. Si se concentrara en la parte izquierda, sería un sesgo a la izquierda. En tu gráfico, parece haber un sesgo a la derecha."
   ]
  },
  {
   "cell_type": "markdown",
   "id": "1a12bc44",
   "metadata": {},
   "source": [
    "c) Calcula la probabilidad de que cinco de los accidentes se hayan debido a la falta de sueño."
   ]
  },
  {
   "cell_type": "code",
   "execution_count": 17,
   "id": "45890658",
   "metadata": {},
   "outputs": [
    {
     "name": "stdout",
     "output_type": "stream",
     "text": [
      "0.10291934519999989\n"
     ]
    }
   ],
   "source": [
    "\n",
    "# P(X=5)\n",
    "n= 10\n",
    "p= 0.3\n",
    "k= 5\n",
    "y= binom.pmf(k, n, p)\n",
    "print (y)"
   ]
  },
  {
   "cell_type": "markdown",
   "id": "8f46c3cd",
   "metadata": {},
   "source": [
    "d) Calcula la probabilidad de que al menos dos accidentes hayan sido ocasionados por la falta\n",
    "de sueño.\n",
    "  Al menos 2, la prob de que sea mayor o igual que 2"
   ]
  },
  {
   "cell_type": "code",
   "execution_count": 20,
   "id": "45e148e2",
   "metadata": {},
   "outputs": [
    {
     "name": "stdout",
     "output_type": "stream",
     "text": [
      "P(X >= 2) = 0.8008517265285442\n"
     ]
    }
   ],
   "source": [
    "# P(X >= 2)\n",
    "prob_al_menos_2 = 1 - sum(poisson.pmf(k, lambda_) for k in range(0, 2))\n",
    "print(\"P(X >= 2) =\", prob_al_menos_2)"
   ]
  },
  {
   "cell_type": "markdown",
   "id": "8b66d343",
   "metadata": {},
   "source": [
    "## Ejercicio 8\n",
    "\n",
    "[**← Anterior**](#ejercicio-7) | [**Siguiente →**](#ejercicio-9)"
   ]
  },
  {
   "cell_type": "markdown",
   "id": "32ae50fb",
   "metadata": {},
   "source": [
    "#### En México, 6% de los 30 millones de usuarios de internet que hay utilizan Twitter. (Torres, 2010). Si conoces a 15 personas que sean asiduas a las redes sociales:"
   ]
  },
  {
   "cell_type": "markdown",
   "id": "d48d4417",
   "metadata": {},
   "source": [
    "a) ¿Cuál es la probabilidad de que 9 o más utilicen Twitter?"
   ]
  },
  {
   "cell_type": "code",
   "execution_count": 23,
   "id": "2fc472a3",
   "metadata": {},
   "outputs": [
    {
     "name": "stdout",
     "output_type": "stream",
     "text": [
      "[3.47962512e-08 1.33262238e-09 3.86640924e-11 8.22640264e-13\n",
      " 1.21174507e-14 1.10493471e-16 4.70184985e-19]\n"
     ]
    }
   ],
   "source": [
    "n = 15\n",
    "k = [9, 10, 11, 12, 13, 14, 15]\n",
    "result = binom.pmf(k, n, p)\n",
    "print(result)"
   ]
  },
  {
   "cell_type": "markdown",
   "id": "b660bd53",
   "metadata": {},
   "source": [
    "b) ¿Cuál es la probabilidad de que máximo dos usen esa red?"
   ]
  },
  {
   "cell_type": "code",
   "execution_count": 24,
   "id": "f61959f8",
   "metadata": {},
   "outputs": [
    {
     "name": "stdout",
     "output_type": "stream",
     "text": [
      "[0.3952918  0.37847087 0.16910401]\n"
     ]
    }
   ],
   "source": [
    "k = [0, 1, 2]\n",
    "result = binom.pmf(k, n, p)\n",
    "print(result)"
   ]
  },
  {
   "cell_type": "markdown",
   "id": "5cd89eec",
   "metadata": {},
   "source": [
    "### "
   ]
  },
  {
   "cell_type": "markdown",
   "id": "4017f568",
   "metadata": {},
   "source": [
    "## Ejercicio 9\n",
    "\n",
    "[**← Anterior**](#ejercicio-8) | [**Ir al Inicio**](#índice-de-ejercicios)"
   ]
  },
  {
   "cell_type": "markdown",
   "id": "7ae42220",
   "metadata": {},
   "source": [
    "#### De acuerdo con la Asociación Mexicana de Instituciones de Seguros (amis), en 2010 sólo 47% de los automóviles contaban con un seguro. Si se realizara una revisión a 18 automóviles:"
   ]
  },
  {
   "cell_type": "code",
   "execution_count": 25,
   "id": "f3ab9467",
   "metadata": {},
   "outputs": [],
   "source": [
    "# Parámetros\n",
    "n = 18  # Número de automóviles\n",
    "p = 0.47  # Proporción que tiene seguro\n",
    "k = list(range(n + 1))"
   ]
  },
  {
   "cell_type": "markdown",
   "id": "934671b7",
   "metadata": {},
   "source": [
    "a) ¿Cómo sería su distribución? Determina la distribución de probabilidad, traza la gráfica\n",
    "correspondiente e indica el tipo de sesgo que presenta."
   ]
  },
  {
   "cell_type": "code",
   "execution_count": null,
   "id": "3b3978c5",
   "metadata": {},
   "outputs": [],
   "source": [
    "# a) Distribución de probabilidad\n",
    "y = binom.pmf(k, n, p)"
   ]
  },
  {
   "cell_type": "code",
   "execution_count": 31,
   "id": "7f732134",
   "metadata": {},
   "outputs": [
    {
     "data": {
      "image/png": "[encoded data removed]",
      "text/plain": [
       "<Figure size 640x480 with 1 Axes>"
      ]
     },
     "metadata": {},
     "output_type": "display_data"
    }
   ],
   "source": [
    "# grafica\n",
    "plt.bar(k, y)\n",
    "plt.xlabel(\"Número de automóviles con seguro\")\n",
    "plt.ylabel(\"Probabilidades\")\n",
    "plt.title(\"Distribución Binomial de Automóviles con Seguro\")\n",
    "plt.show()"
   ]
  },
  {
   "cell_type": "code",
   "execution_count": 32,
   "id": "b6a809fe",
   "metadata": {},
   "outputs": [
    {
     "name": "stdout",
     "output_type": "stream",
     "text": [
      "Distribución de probabilidad\n",
      "----------------------------\n",
      "P(X = 0) = 1.0888439761782941e-05\n",
      "P(X = 1) = 0.0001738041516692141\n",
      "P(X = 2) = 0.0013100897847519082\n",
      "P(X = 3) = 0.0061961479127888965\n",
      "P(X = 4) = 0.020605114521302675\n",
      "P(X = 5) = 0.05116288813214025\n",
      "P(X = 6) = 0.09830353663125069\n",
      "P(X = 7) = 0.14944257320761556\n",
      "P(X = 8) = 0.18222125082154986\n",
      "P(X = 9) = 0.17954714441536362\n",
      "P(X = 10) = 0.1432989473352808\n",
      "P(X = 11) = 0.09241921817850011\n",
      "P(X = 12) = 0.047808054686677016\n",
      "P(X = 13) = 0.019567302498755986\n",
      "P(X = 14) = 0.006197191492193614\n",
      "P(X = 15) = 0.0014654993717388677\n",
      "P(X = 16) = 0.00024367383421601497\n",
      "P(X = 17) = 2.542213142764188e-05\n",
      "P(X = 18) = 1.2524530158272228e-06\n"
     ]
    }
   ],
   "source": [
    "print(\"Distribución de probabilidad\")\n",
    "print(\"----------------------------\")\n",
    "for valor in k:\n",
    "    print(\"P(X = {}) = {}\".format(k[valor], y[valor]))"
   ]
  },
  {
   "cell_type": "markdown",
   "id": "a668b1e4",
   "metadata": {},
   "source": [
    "b) ¿Cuántos autos esperas que cuenten con seguro?"
   ]
  },
  {
   "cell_type": "code",
   "execution_count": null,
   "id": "32d44694",
   "metadata": {},
   "outputs": [
    {
     "name": "stdout",
     "output_type": "stream",
     "text": [
      "Número esperado de autos con seguro: 8.459999999999999\n"
     ]
    }
   ],
   "source": [
    "#(núm esperado de autos con seg)\n",
    "esperanza = n * p\n",
    "print(\"Número esperado de autos con seguro:\", esperanza)"
   ]
  },
  {
   "cell_type": "markdown",
   "id": "02fcf817",
   "metadata": {},
   "source": [
    "c) ¿Cuál es la probabilidad de que 13 o más autos tengan seguro?"
   ]
  },
  {
   "cell_type": "code",
   "execution_count": 30,
   "id": "a362b02f",
   "metadata": {},
   "outputs": [
    {
     "name": "stdout",
     "output_type": "stream",
     "text": [
      "Probabilidad de que 13 o más autos tengan seguro: 0.027500341781347637\n"
     ]
    }
   ],
   "source": [
    "prob_13_o_mas = 1 - sum(binom.pmf(k, n, p) for k in range(0, 13))\n",
    "print(\"Probabilidad de que 13 o más autos tengan seguro:\", prob_13_o_mas)"
   ]
  }
 ],
 "metadata": {
  "kernelspec": {
   "display_name": "Python 3",
   "language": "python",
   "name": "python3"
  },
  "language_info": {
   "codemirror_mode": {
    "name": "ipython",
    "version": 3
   },
   "file_extension": ".py",
   "mimetype": "text/x-python",
   "name": "python",
   "nbconvert_exporter": "python",
   "pygments_lexer": "ipython3",
   "version": "3.13.2"
  }
 },
 "nbformat": 4,
 "nbformat_minor": 5
}
