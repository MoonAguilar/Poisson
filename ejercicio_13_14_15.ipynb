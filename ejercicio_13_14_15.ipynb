{
 "cells": [
  {
   "cell_type": "code",
   "execution_count": 2,
   "id": "26b887d8-a41a-4e9e-92f1-6db6e0dde038",
   "metadata": {},
   "outputs": [
    {
     "name": "stdout",
     "output_type": "stream",
     "text": [
      "Bibliotecas cargadas\n"
     ]
    }
   ],
   "source": [
    "import matplotlib.pyplot as plt\n",
    "from scipy.stats import binom\n",
    "print(\"Bibliotecas cargadas\")"
   ]
  },
  {
   "cell_type": "markdown",
   "id": "1c24343a-49ff-4cf2-8667-44dfe6d0ab06",
   "metadata": {},
   "source": [
    "# Probabilidad – Ejercicios 13‑15 (Distribución de Poisson)\n",
    "\n",
    "## Menú\n",
    "- [Ejercicio 13 – Perlas de ostras](#ejercicio-13--perlas-de-ostras)\n",
    "- [Ejercicio 14 – Consumo de drogas](#ejercicio-14--consumo-de-drogas)\n",
    "- [Ejercicio 15 – Habitantes por vivienda](#ejercicio-15--habitantes-por-vivienda)\n",
    "- [Ir a index.html](index.html)\n",
    "\n"
   ]
  },
  {
   "cell_type": "markdown",
   "id": "b74aa9ad-c2b7-4298-a0bc-e70c53b2b897",
   "metadata": {},
   "source": [
    "## Ejercicio 13 – Perlas de ostras\n",
    "\n",
    "En el Mar de Cortés, 3.6 % de las ostras producen perlas de buen valor.  \n",
    "Para una muestra de 150 ostras:\n",
    "\n",
    "- a) Probabilidad de que exactamente 12 ostras tengan perlas valiosas\n",
    "- b) Probabilidad de que cuando mucho dos tengan perlas valiosas\n",
    "\n",
    "\n",
    "Calcularemos \n",
    "- λ= 3.6% × 150 = 0.036 × 150 = 5.4\n",
    "\n",
    "* \\(P(X = 12)\\)  \n",
    "* \\(P(X≤2)=P(0)+P(1)+P(2)\\)\n"
   ]
  },
  {
   "cell_type": "code",
   "execution_count": 4,
   "id": "9d15db40-b937-4003-9302-afb56e9af439",
   "metadata": {},
   "outputs": [
    {
     "name": "stdout",
     "output_type": "stream",
     "text": [
      "P(X = 12) = 0.00579693\n",
      "P(X ≤ 2)  = 0.0948\n"
     ]
    }
   ],
   "source": [
    "import math\n",
    "\n",
    "# λ para las ostras\n",
    "lam = 5.4\n",
    "\n",
    "def poisson_pmf(k, lam):\n",
    "    \"\"\"Función de masa de probabilidad de Poisson.\"\"\"\n",
    "    return math.exp(-lam) * lam**k / math.factorial(k)\n",
    "\n",
    "# Incisos\n",
    "p_12  = poisson_pmf(12, lam)\n",
    "p_le2 = sum(poisson_pmf(k, lam) for k in range(3))\n",
    "\n",
    "print(f\"P(X = 12) = {p_12:.8f}\")\n",
    "print(f\"P(X ≤ 2)  = {p_le2:.4f}\")\n"
   ]
  },
  {
   "cell_type": "markdown",
   "id": "1017716a-6924-47d6-b960-8016b2da2a95",
   "metadata": {},
   "source": [
    "## Ejercicio 14 – Consumo de drogas\n",
    "En una encuesta, 25.3 % consumen alguna droga.  \n",
    "Para un grupo de 25 personas.\n",
    "\n",
    "- a) ¿Cuál es la probabilidad de que 10 personas consuman drogas?\n",
    "- b) ¿Cuál es la probabilidad de que al menos 20 personas consuman?\n",
    "- c) De un grupo de 50 personas, ¿cuántas se espera que consuman drogas?\n",
    "\n",
    "Calcularemos\n",
    "- λ= 25.3% × 25 = 0.253 × 25 = 6.325\n",
    "\n",
    "1. \\(P(X = 10)\\)  \n",
    "2. \\(P(X \\ge 20)\\)  \n",
    "3. Valor esperado para 50 personas\n"
   ]
  },
  {
   "cell_type": "code",
   "execution_count": 2,
   "id": "bda7b178-ee84-41ca-a77d-167acf65f17c",
   "metadata": {},
   "outputs": [
    {
     "name": "stdout",
     "output_type": "stream",
     "text": [
      "P(X = 10) = 0.050574\n",
      "P(X ≥ 20) = 0.00001098\n",
      "Esperanza en 50 personas = 12.650\n"
     ]
    }
   ],
   "source": [
    "lam = 6.325\n",
    "\n",
    "def poisson_cdf(k, lam):\n",
    "    \"\"\"Función de distribución acumulada para Poisson.\"\"\"\n",
    "    return sum(poisson_pmf(i, lam) for i in range(k + 1))\n",
    "\n",
    "# Incisos\n",
    "p_10   = poisson_pmf(10, lam)\n",
    "p_ge20 = 1 - poisson_cdf(19, lam)     # Complemento para X ≥ 20\n",
    "expected_50 = 0.253 * 50              # Valor esperado lineal\n",
    "\n",
    "print(f\"P(X = 10) = {p_10:.6f}\")\n",
    "print(f\"P(X ≥ 20) = {p_ge20:.8f}\")\n",
    "print(f\"Esperanza en 50 personas = {expected_50:.3f}\")\n"
   ]
  },
  {
   "cell_type": "markdown",
   "id": "1717bf7a-bd15-4127-8c4c-2fe7ddd49378",
   "metadata": {},
   "source": [
    "## Ejercicio 15 – Habitantes por vivienda\n",
    "Según el Censo 2010, media \\(\\lambda = 3.9\\) habitantes por vivienda.\n",
    "\n",
    "- a) Construye la distribución de probabilidad y la gráfica.\n",
    "- b) Probabilidad de que una vivienda tenga 5 personas\n",
    "- c) Probabilidad de que vivan más de 3 personas\n",
    "\n",
    "* Distribución de probabilidad para \\(k = 0 \\dots 8\\)  \n",
    "* Gráfica  \n",
    "* \\(P(X = 5)\\)  \n",
    "* \\(P(X > 3)\\)\n"
   ]
  },
  {
   "cell_type": "code",
   "execution_count": 3,
   "id": "70c5e885-7c61-46bf-a730-29ca140e2252",
   "metadata": {},
   "outputs": [
    {
     "data": {
      "image/png": "[encoded data removed]",
      "text/plain": [
       "<Figure size 640x480 with 1 Axes>"
      ]
     },
     "metadata": {},
     "output_type": "display_data"
    },
    {
     "name": "stdout",
     "output_type": "stream",
     "text": [
      "P(X = 5) = 0.152\n",
      "P(X > 3) = 0.5468\n"
     ]
    }
   ],
   "source": [
    "lam = 3.9\n",
    "ks  = list(range(9))\n",
    "pmf = [poisson_pmf(k, lam) for k in ks]\n",
    "\n",
    "# Gráfica\n",
    "import matplotlib.pyplot as plt\n",
    "plt.bar(ks, pmf)\n",
    "plt.xlabel(\"Habitantes (k)\")\n",
    "plt.ylabel(\"P(X = k)\")\n",
    "plt.title(\"Distribución Poisson λ = 3.9\")\n",
    "plt.show()\n",
    "\n",
    "# Probabilidades solicitadas\n",
    "p5   = poisson_pmf(5, lam)\n",
    "p_le3 = sum(poisson_pmf(k, lam) for k in range(4))\n",
    "p_gt3 = 1 - p_le3\n",
    "\n",
    "print(f\"P(X = 5) = {p5:.3f}\")\n",
    "print(f\"P(X > 3) = {p_gt3:.4f}\")\n"
   ]
  },
  {
   "cell_type": "markdown",
   "id": "1a7989ca-945e-45f8-87e4-099203cf0f54",
   "metadata": {},
   "source": [
    "## Ejercicio 7: Regresión lineal simple\n",
    "\n",
    "En este ejercicio analizamos la relación entre dos variables usando regresión lineal.\n",
    "\n",
    "[**Siguiente →**](#ejercicio-8-analisis-de-residuos)\n"
   ]
  },
  {
   "cell_type": "code",
   "execution_count": null,
   "id": "117ae291-ab40-4832-b95f-67a7fb7ee33e",
   "metadata": {},
   "outputs": [],
   "source": []
  }
 ],
 "metadata": {
  "kernelspec": {
   "display_name": "Python 3 (ipykernel)",
   "language": "python",
   "name": "python3"
  },
  "language_info": {
   "codemirror_mode": {
    "name": "ipython",
    "version": 3
   },
   "file_extension": ".py",
   "mimetype": "text/x-python",
   "name": "python",
   "nbconvert_exporter": "python",
   "pygments_lexer": "ipython3",
   "version": "3.13.4"
  }
 },
 "nbformat": 4,
 "nbformat_minor": 5
}
