{
 "cells": [
  {
   "cell_type": "markdown",
   "id": "c19177b0-b3ab-41ef-ba8f-e8a735411ba7",
   "metadata": {},
   "source": [
    "- [Menu](ejercicio_10_11_12.ipynb)\n",
    "- [Regresar](Ejercicio_11.ipynb)"
   ]
  },
  {
   "cell_type": "code",
   "execution_count": 1,
   "id": "9227149f-f83c-4270-bb9e-ca619d883a03",
   "metadata": {},
   "outputs": [],
   "source": [
    "import matplotlib.pyplot as plt\n",
    "from scipy.stats import binom\n",
    "from scipy.stats import binom\n",
    "from IPython.display import display, Math"
   ]
  },
  {
   "cell_type": "markdown",
   "id": "0add8027-7885-41c0-96a5-573a4eded7db",
   "metadata": {},
   "source": [
    "### Ejercicio 12\n",
    "#### Según encuestas realizadas, uno de cada cuatro adolescentes estaría dispuesto a so- meterse a una cirugía plástica para parecerse a alguna personalidad como David Beckham, Usher o Justin Bieber. Supón que 15 personas asisten a una reunión,"
   ]
  },
  {
   "cell_type": "markdown",
   "id": "481c3bdc-cd6e-4a3e-962d-4bb259f1ee80",
   "metadata": {},
   "source": [
    "#### Datos del problema:\n",
    "#### Probabilidad de éxito (p): 1 de cada 4 adolescentes = 0.25.\n",
    "#### Número de ensayos (n): 15 personas.\n",
    "#### Poisson se aproxima con:\n",
    "####        λ=n⋅p=15⋅0.25=3.75"
   ]
  },
  {
   "cell_type": "markdown",
   "id": "d7f9bdcf-caa3-4071-929d-d0be9f50c1c9",
   "metadata": {},
   "source": [
    "### a) ¿Cuál es la probabilidad de que al menos 10 de ellas quisieran parecerse a alguna personalidad?"
   ]
  },
  {
   "cell_type": "code",
   "execution_count": 4,
   "id": "30a2bd8e-134b-47a8-ab33-5990e957707e",
   "metadata": {},
   "outputs": [
    {
     "name": "stdout",
     "output_type": "stream",
     "text": [
      " P(X ≥ 10) usando Poisson = 0.005307\n"
     ]
    }
   ],
   "source": [
    "# Parámetros\n",
    "n = 15\n",
    "p = 0.25\n",
    "lambd = n * p  # λ para Poisson\n",
    "\n",
    "# a) P(X ≥ 10) = 1 - P(X ≤ 9)\n",
    "prob_10_o_mas = 1 - poisson.cdf(9, lambd)\n",
    "print(f\" P(X ≥ 10) usando Poisson = {prob_10_o_mas:.6f}\")\n",
    "\n"
   ]
  },
  {
   "cell_type": "markdown",
   "id": "8d635822-6379-46f8-b585-5073a461f380",
   "metadata": {},
   "source": [
    "### b) ¿Cuál es la probabilidad de que exactamente cinco quisieran practicarse una cirugía plástica?"
   ]
  },
  {
   "cell_type": "code",
   "execution_count": null,
   "id": "4ae27ad2-3fdc-496b-ad9b-cd9858ac8ca6",
   "metadata": {},
   "outputs": [],
   "source": [
    "# Parámetros\n",
    "n = 15\n",
    "p = 0.25\n",
    "lambd = n * p  # λ para Poisson\n",
    "\n",
    "\n",
    "# b) P(X = 5)\n",
    "prob_exacto_5 = poisson.pmf(5, lambd)\n",
    "print(f\"b) P(X = 5) usando Poisson = {prob_exacto_5:.6f}\")\n"
   ]
  },
  {
   "cell_type": "markdown",
   "id": "d3cd6688-8f39-4c7e-8ec4-363af039c102",
   "metadata": {},
   "source": [
    "### c) Según estudios psicológicos, esta situación es muy común entre los adolescentes, pues refleja un problema de autoestima y de creer que son valiosos sólo por parecerse a alguien famoso. ¿Consideras que pareciéndose a otra persona uno se pueda sentir contento consigo mismo? ¿Estarías dispuesto a practicarte una cirugía estética para parecerte a tu ídolo? Discute con tus compañeros sobre este tema."
   ]
  },
  {
   "cell_type": "code",
   "execution_count": 6,
   "id": "c7be7ce7-c0fd-4949-80e6-272d529fd56a",
   "metadata": {},
   "outputs": [
    {
     "name": "stdin",
     "output_type": "stream",
     "text": [
      "¿Crees que parecerte a alguien famoso puede hacerte feliz contigo mismo? (sí/no):  no\n",
      "¿Te harías una cirugía para parecerte a tu ídolo? (sí/no):  no\n"
     ]
    },
    {
     "name": "stdout",
     "output_type": "stream",
     "text": [
      "\n",
      "Tu respuesta:\n",
      "• ¿Crees que parecerse a alguien te hace feliz contigo mismo? → no\n",
      "• ¿Te operarías para parecerte a alguien? → no\n",
      "\n",
      "Recuerda que la autoestima se basa en aceptarte como eres y valorar tu individualidad.\n",
      "Discute esto con tus compañeros. ¿Qué piensan ellos?\n"
     ]
    }
   ],
   "source": [
    "# c) Discusión sobre autoestima e imagen\n",
    "\n",
    "# Simulación con tus respuestas personales\n",
    "autoestima = input(\"¿Crees que parecerte a alguien famoso puede hacerte feliz contigo mismo? (sí/no): \")\n",
    "cirugia = input(\"¿Te harías una cirugía para parecerte a tu ídolo? (sí/no): \")\n",
    "\n",
    "print(\"\\nTu respuesta:\")\n",
    "print(f\"• ¿Crees que parecerse a alguien te hace feliz contigo mismo? → {autoestima}\")\n",
    "print(f\"• ¿Te operarías para parecerte a alguien? → {cirugia}\")\n",
    "\n",
    "print(\"\\nRecuerda que la autoestima se basa en aceptarte como eres y valorar tu individualidad.\")\n",
    "print(\"Discute esto con tus compañeros. ¿Qué piensan ellos?\")\n"
   ]
  }
 ],
 "metadata": {
  "kernelspec": {
   "display_name": "Python 3 (ipykernel)",
   "language": "python",
   "name": "python3"
  },
  "language_info": {
   "codemirror_mode": {
    "name": "ipython",
    "version": 3
   },
   "file_extension": ".py",
   "mimetype": "text/x-python",
   "name": "python",
   "nbconvert_exporter": "python",
   "pygments_lexer": "ipython3",
   "version": "3.13.4"
  }
 },
 "nbformat": 4,
 "nbformat_minor": 5
}
