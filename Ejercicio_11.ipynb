{
 "cells": [
  {
   "cell_type": "markdown",
   "id": "4aff09e1-848e-4b3f-9568-ffbd2443829e",
   "metadata": {},
   "source": [
    "- [Menu](ejercicio_10_11_12.ipynb)\n",
    "- [Regresar](Ejercicio_10.ipynb)\n",
    "- [siguiente Ejercicio](Ejercicio_12.ipynb)"
   ]
  },
  {
   "cell_type": "code",
   "execution_count": 17,
   "id": "48b1a2e3-7d5f-42b5-976a-920cf06b3a5d",
   "metadata": {},
   "outputs": [],
   "source": [
    "import matplotlib.pyplot as plt\n",
    "from scipy.stats import binom\n",
    "from scipy.stats import binom\n",
    "from IPython.display import display, Math"
   ]
  },
  {
   "cell_type": "markdown",
   "id": "25b4a5a0-3b78-4131-9932-523239362405",
   "metadata": {},
   "source": [
    "## Ejercicio 11\n",
    "#### De acuerdo con los datos proporcionados por la Secretaría de Salud en 2010, 34% de la población utiliza los servicios de salud públicos federales o estatales. Se quiere realizar una encuesta a 50 personas sobre la calidad de los servicios de salud. Encuentra:"
   ]
  },
  {
   "cell_type": "markdown",
   "id": "4cc74852-2280-4571-a1ee-c82376ae7591",
   "metadata": {},
   "source": [
    "##### Datos:\n",
    "\n",
    "##### Porcentaje que usa servicios públicos de salud = 34% = 0.34\n",
    "\n",
    "##### Tamaño de la muestra (personas encuestadas) = 50"
   ]
  },
  {
   "cell_type": "markdown",
   "id": "f3e18937-b633-4a4c-8518-324955c3fcc5",
   "metadata": {},
   "source": [
    "### a) ¿Qué proporción de las personas esperas que asistan a los servicios de salud públicos?"
   ]
  },
  {
   "cell_type": "code",
   "execution_count": 13,
   "id": "813593d4-3bf4-4ec0-b2a6-a5a3c83ef920",
   "metadata": {},
   "outputs": [
    {
     "name": "stdout",
     "output_type": "stream",
     "text": [
      " Número esperado de adolescentes que contestan que sí: 17.0\n"
     ]
    }
   ],
   "source": [
    "n = 50     # número de adolescentes\n",
    "p = 0.34   # probabilidad de que un adolescente diga que tuvo su primera relación sexual antes de los 18\n",
    "# λ=n⋅p\n",
    "esperado = n * p\n",
    "print(f\" Número esperado de adolescentes que contestan que sí: {esperado}\")"
   ]
  },
  {
   "cell_type": "markdown",
   "id": "286399a4-b621-423d-aba6-979e7c76707e",
   "metadata": {},
   "source": [
    "### b) ¿Qué probabilidad existe de que 30 personas utilicen los servicios que brinda el gobierno?"
   ]
  },
  {
   "cell_type": "code",
   "execution_count": 14,
   "id": "0e32c214-84ef-4983-ae90-b2c4e12082a3",
   "metadata": {},
   "outputs": [
    {
     "name": "stdout",
     "output_type": "stream",
     "text": [
      " P(X = 30) usando Poisson = 0.001279\n"
     ]
    }
   ],
   "source": [
    "# Parámetros\n",
    "n = 50\n",
    "p = 0.34\n",
    "lambd = n * p  # lambda de Poisson\n",
    "# b) P(X = 30)\n",
    "k = 30\n",
    "prob_30_poisson = poisson.pmf(k, lambd)\n",
    "print(f\" P(X = 30) usando Poisson = {prob_30_poisson:.6f}\")"
   ]
  },
  {
   "cell_type": "markdown",
   "id": "59904f1e-5904-4435-b2d2-67e0cd66c379",
   "metadata": {},
   "source": [
    "### c) ¿Qué probabilidad hay de que cuando mucho 10 utilicen estos servicios?"
   ]
  },
  {
   "cell_type": "code",
   "execution_count": 15,
   "id": "aa129917-2912-4610-957d-9cc86ab90855",
   "metadata": {},
   "outputs": [
    {
     "name": "stdout",
     "output_type": "stream",
     "text": [
      " P(X ≤ 10) usando Poisson = 0.049124\n"
     ]
    }
   ],
   "source": [
    "# Parámetros\n",
    "n = 50\n",
    "p = 0.34\n",
    "lambd = n * p  # lambda de Poisson\n",
    "# c) P(X <= 10)\n",
    "prob_max_10_poisson = poisson.cdf(10, lambd)\n",
    "print(f\" P(X ≤ 10) usando Poisson = {prob_max_10_poisson:.6f}\")"
   ]
  },
  {
   "cell_type": "markdown",
   "id": "bfbe966c-1718-4cd9-98af-802d0ef4ce62",
   "metadata": {},
   "source": [
    "### d) ¿Alguna vez has recurrido a los servicios públicos de salud? Con tus compañeros de clase comenten sus experiencias y realicen una lluvia de ideas para mejorar los servicios de salud."
   ]
  },
  {
   "cell_type": "code",
   "execution_count": 16,
   "id": "71eaa416-4daf-4111-8af0-e25930fee21f",
   "metadata": {},
   "outputs": [
    {
     "name": "stdin",
     "output_type": "stream",
     "text": [
      "¿Has usado los servicios públicos de salud? (sí/no):  si\n"
     ]
    },
    {
     "name": "stdout",
     "output_type": "stream",
     "text": [
      "Gracias. Es importante conocer otras experiencias también.\n"
     ]
    }
   ],
   "source": [
    "# Simulación sencilla para que el usuario registre su experiencia\n",
    "experiencia = input(\"¿Has usado los servicios públicos de salud? (sí/no): \")\n",
    "if experiencia.lower() == 'sí':\n",
    "    opinion = input(\"¿Qué mejorarías en el servicio que recibiste?: \")\n",
    "    print(\"Gracias por compartir tu experiencia.\")\n",
    "    print(f\"Tú mejorarías: {opinion}\")\n",
    "else:\n",
    "    print(\"Gracias. Es importante conocer otras experiencias también.\")"
   ]
  }
 ],
 "metadata": {
  "kernelspec": {
   "display_name": "Python 3 (ipykernel)",
   "language": "python",
   "name": "python3"
  },
  "language_info": {
   "codemirror_mode": {
    "name": "ipython",
    "version": 3
   },
   "file_extension": ".py",
   "mimetype": "text/x-python",
   "name": "python",
   "nbconvert_exporter": "python",
   "pygments_lexer": "ipython3",
   "version": "3.13.4"
  }
 },
 "nbformat": 4,
 "nbformat_minor": 5
}
