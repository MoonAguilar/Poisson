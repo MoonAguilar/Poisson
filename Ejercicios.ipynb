{
 "cells": [
  {
   "cell_type": "markdown",
   "id": "59faa6fc-5686-4cb2-8569-a3f11d85e0b1",
   "metadata": {},
   "source": [
    "# Índice de Ejercicios\n",
    "\n",
    "## Contenido\n",
    "- [Ejercicio 7](#Ejercicio-7)\n",
    "- [Ejercicio 8](#Ejercicio-8)\n",
    "- [Ejercicio 9](#Ejercicio-9)\n",
    "- [Ejercicio 10](#Ejercicio-10)\n",
    "- [Ejercicio 11](#Ejercicio-11)\n",
    "- [Ejercicio 12](#Ejercicio-12)\n",
    "- [Ejercicio 13](#Ejercicio-13)\n",
    "- [Ejercicio 14](#Ejercicio-14)\n",
    "- [Ejercicio 15](#Ejercicio-15)\n",
    "- [Ir a index.html](index.html)"
   ]
  },
  {
   "cell_type": "code",
   "execution_count": 20,
   "id": "8602fe79-16dc-405c-b588-1c4bbe3dbc0e",
   "metadata": {},
   "outputs": [
    {
     "name": "stdout",
     "output_type": "stream",
     "text": [
      "setup complet\n"
     ]
    }
   ],
   "source": [
    "import numpy as np\n",
    "import matplotlib.pyplot as plt\n",
    "from scipy.stats import binom\n",
    "from scipy.stats import poisson\n",
    "print(\"setup complet\")"
   ]
  },
  {
   "cell_type": "markdown",
   "id": "ea6d34b8-58ec-4e7a-a447-308d060bb6e5",
   "metadata": {},
   "source": [
    "#### Ejercicio 7\n",
    "\n",
    "[Ir al Indice](#Contenido)   \n",
    "[Siguiente Ejercicio](#Ejercicio-8)"
   ]
  },
  {
   "cell_type": "markdown",
   "id": "8e6d120e-4c34-4237-a7dd-9e02c72a2231",
   "metadata": {},
   "source": [
    "#### Según un anuncio comercial de colchones, 30% de los accidentes automovilísticos se deben a la falta de sueño. Supón que en un día cualquiera ocurren 10 accidentes automovilísticos. pag. (164)\n",
    "\n",
    "Gutiérrez Banegas, A. L. (2012). Probabilidad y estadística. McGraw-Hill."
   ]
  },
  {
   "cell_type": "code",
   "execution_count": 26,
   "id": "f168cf0f-71d4-4365-9673-287966260e66",
   "metadata": {},
   "outputs": [],
   "source": [
    "# Parámetros\n",
    "n = 10\n",
    "p = 0.3\n",
    "lambda_ = n * p  # Tasa promedio de accidentes por falta de sueño\n",
    "k = list(range(n + 1))"
   ]
  },
  {
   "cell_type": "code",
   "execution_count": 11,
   "id": "d4f8e05a-9e0f-4d4e-822d-4b66633bde66",
   "metadata": {},
   "outputs": [
    {
     "name": "stdout",
     "output_type": "stream",
     "text": [
      "Distribucion de probabilidad\n",
      "----------------------------\n",
      "p(k+0)= 0.02824752490000002\n",
      "p(k+1)= 0.12106082099999992\n",
      "p(k+2)= 0.23347444050000013\n",
      "p(k+3)= 0.2668279319999998\n",
      "p(k+4)= 0.2001209489999999\n",
      "p(k+5)= 0.10291934519999989\n",
      "p(k+6)= 0.03675690899999995\n",
      "p(k+7)= 0.009001691999999993\n",
      "p(k+8)= 0.0014467004999999984\n",
      "p(k+9)= 0.00013778099999999985\n",
      "p(k+10)= 5.904899999999999e-06\n"
     ]
    }
   ],
   "source": [
    "# Distribucion\n",
    "p= 0.3\n",
    "n= 10\n",
    "k= list (range(n+1))\n",
    "y= binom.pmf(k,n,p)\n",
    "print (\"Distribucion de probabilidad\")\n",
    "print (\"----------------------------\")\n",
    "for valor in k:\n",
    "    print (\"p(k+{})= {}\".format(k[valor], y [valor]))"
   ]
  },
  {
   "cell_type": "code",
   "execution_count": 12,
   "id": "3d228520-c835-478d-8716-ff92a8e5d5d2",
   "metadata": {},
   "outputs": [
    {
     "data": {
      "image/png": "[encoded data removed]",
      "text/plain": [
       "<Figure size 640x480 with 1 Axes>"
      ]
     },
     "metadata": {},
     "output_type": "display_data"
    }
   ],
   "source": [
    "# Trazar la gráfica\n",
    "plt.bar(k, y)\n",
    "plt.xlabel(\"Valores de k (número de accidentes)\")\n",
    "plt.ylabel(\"Probabilidades\")\n",
    "plt.title(\"Distribución de Poisson\")\n",
    "plt.show()"
   ]
  },
  {
   "cell_type": "markdown",
   "id": "f8e8eb52-4cc1-4bbc-8cbe-1d7dd7ffe769",
   "metadata": {},
   "source": [
    "#### b) ¿Qué tipo de sesgo presenta la distribución?"
   ]
  },
  {
   "cell_type": "markdown",
   "id": "20d53466-aa1c-422f-b85d-4a1ce41bc2ac",
   "metadata": {},
   "source": [
    "##### La distribución presenta un sesgo a la derecha si la mayoría de las probabilidades están en los valores bajos y la cola se extiende hacia la derecha. Si se concentrara en la parte izquierda, sería un sesgo a la izquierda. En tu gráfico, parece haber un sesgo a la derecha."
   ]
  },
  {
   "cell_type": "markdown",
   "id": "4c628118-a611-4a1b-913c-11bc1b9c821b",
   "metadata": {},
   "source": [
    "#### c) Calcula la probabilidad de que cinco de los accidentes se hayan debido a la falta de sueño."
   ]
  },
  {
   "cell_type": "code",
   "execution_count": null,
   "id": "449e7f40-b81f-4f36-9b76-c5e6df0a48a5",
   "metadata": {},
   "outputs": [],
   "source": [
    "# P(X=5)\n",
    "n= 10\n",
    "p= 0.3\n",
    "k= 5\n",
    "y= binom.pmf(k, n, p)\n",
    "print (y)"
   ]
  },
  {
   "cell_type": "markdown",
   "id": "33767884-bf47-4848-82f6-1ae211c37141",
   "metadata": {},
   "source": [
    "#### d) Calcula la probabilidad de que al menos dos accidentes hayan sido ocasionados por la falta de sueño. Al menos 2, la prob de que sea mayor o igual que 2"
   ]
  },
  {
   "cell_type": "code",
   "execution_count": null,
   "id": "be5a6fc1-0fb1-4106-bce0-3d2e53485f3e",
   "metadata": {},
   "outputs": [],
   "source": [
    "# P(X >= 2)\n",
    "prob_al_menos_2 = 1 - sum(poisson.pmf(k, lambda_) for k in range(0, 2))\n",
    "print(\"P(X >= 2) =\", prob_al_menos_2)"
   ]
  },
  {
   "cell_type": "markdown",
   "id": "29809f18-6c68-462b-bbf1-ba73198c50ae",
   "metadata": {},
   "source": [
    "## Ejercicio 8\n",
    "\n",
    "[Ejercicio Anterior](#Ejercicio-7)   \n",
    "[Ir al Indice](#Contenido)     \n",
    "[Siguiente Ejercicio](#Ejercicio-9)"
   ]
  },
  {
   "cell_type": "markdown",
   "id": "97cc5ade-300e-4745-9b0a-eac816123087",
   "metadata": {},
   "source": [
    "#### En México, 6% de los 30 millones de usuarios de internet que hay utilizan Twitter. (Torres, 2010). Si conoces a 15 personas que sean asiduas a las redes sociales: pag. (164)\n",
    "\n",
    "Gutiérrez Banegas, A. L. (2012). Probabilidad y estadística. McGraw-Hill."
   ]
  },
  {
   "cell_type": "markdown",
   "id": "286ebef1-b128-40af-a7b5-df70f4b18811",
   "metadata": {},
   "source": [
    "#### a) ¿Cuál es la probabilidad de que 9 o más utilicen Twitter?"
   ]
  },
  {
   "cell_type": "code",
   "execution_count": null,
   "id": "cf1598cf-b5d4-4832-87e5-1b6c126d4810",
   "metadata": {},
   "outputs": [],
   "source": [
    "n = 15\n",
    "k = [9, 10, 11, 12, 13, 14, 15]\n",
    "result = binom.pmf(k, n, p)\n",
    "print(result)"
   ]
  },
  {
   "cell_type": "markdown",
   "id": "686b8f76-a3a6-454d-b12c-83578fb63dd8",
   "metadata": {},
   "source": [
    "#### b) ¿Cuál es la probabilidad de que máximo dos usen esa red?"
   ]
  },
  {
   "cell_type": "code",
   "execution_count": null,
   "id": "7de3c2ef-f003-438b-ac5b-9ae252d6e188",
   "metadata": {},
   "outputs": [],
   "source": [
    "k = [0, 1, 2]\n",
    "result = binom.pmf(k, n, p)\n",
    "print(result)"
   ]
  },
  {
   "cell_type": "markdown",
   "id": "0a6af90f-cbb7-4910-b8a1-16469ac9a1e4",
   "metadata": {},
   "source": [
    "## Ejercicio 9\n",
    "\n",
    "- [Ejercicio anterior](#Ejercicio-8)  \n",
    "- [Ir al Indice](#Contenido)  \n",
    "- [Siguiente ejercicio](#Ejercicio-10)"
   ]
  },
  {
   "cell_type": "markdown",
   "id": "00807a7f-d942-4cb0-b165-3d8ac60d78b2",
   "metadata": {},
   "source": [
    "#### De acuerdo con la Asociación Mexicana de Instituciones de Seguros (amis), en 2010 sólo 47% de los automóviles contaban con un seguro. Si se realizara una revisión a 18 automóviles: pag. (165)\n",
    "\n",
    "Gutiérrez Banegas, A. L. (2012). Probabilidad y estadística. McGraw-Hill."
   ]
  },
  {
   "cell_type": "code",
   "execution_count": null,
   "id": "f8585bb5-222e-4355-b44a-98da54566df1",
   "metadata": {},
   "outputs": [],
   "source": [
    "# Parámetros\n",
    "n = 18  # Número de automóviles\n",
    "p = 0.47  # Proporción que tiene seguro\n",
    "k = list(range(n + 1))"
   ]
  },
  {
   "cell_type": "markdown",
   "id": "b5c753a5-f049-4a61-a8d2-f8f04fd80bac",
   "metadata": {},
   "source": [
    "#### a) ¿Cómo sería su distribución? Determina la distribución de probabilidad, traza la gráfica correspondiente e indica el tipo de sesgo que presenta."
   ]
  },
  {
   "cell_type": "code",
   "execution_count": null,
   "id": "1ea4c2fa-b7a3-40c7-a8db-d1f3532a51a6",
   "metadata": {},
   "outputs": [],
   "source": [
    "# a) Distribución de probabilidad\n",
    "y = binom.pmf(k, n, p)"
   ]
  },
  {
   "cell_type": "code",
   "execution_count": null,
   "id": "39994d74-7d8c-490c-8e9f-eb0d2abc8863",
   "metadata": {},
   "outputs": [],
   "source": [
    "# grafica\n",
    "plt.bar(k, y)\n",
    "plt.xlabel(\"Número de automóviles con seguro\")\n",
    "plt.ylabel(\"Probabilidades\")\n",
    "plt.title(\"Distribución Binomial de Automóviles con Seguro\")\n",
    "plt.show()"
   ]
  },
  {
   "cell_type": "code",
   "execution_count": null,
   "id": "f8351b0a-f2a8-4fcc-a594-6c0484400882",
   "metadata": {},
   "outputs": [],
   "source": [
    "print(\"Distribución de probabilidad\")\n",
    "print(\"----------------------------\")\n",
    "for valor in k:\n",
    "    print(\"P(X = {}) = {}\".format(k[valor], y[valor]))"
   ]
  },
  {
   "cell_type": "markdown",
   "id": "6d27b486-16de-4afe-8d4d-14dc15c80b04",
   "metadata": {},
   "source": [
    "#### b) ¿Cuántos autos esperas que cuenten con seguro?"
   ]
  },
  {
   "cell_type": "code",
   "execution_count": null,
   "id": "6d9071be-6c1d-4330-9937-7a30193db77e",
   "metadata": {},
   "outputs": [],
   "source": [
    "#(núm esperado de autos con seg)\n",
    "esperanza = n * p\n",
    "print(\"Número esperado de autos con seguro:\", esperanza)"
   ]
  },
  {
   "cell_type": "markdown",
   "id": "248ac538-e0ca-4475-bcc4-1094ec455be6",
   "metadata": {},
   "source": [
    "#### c) ¿Cuál es la probabilidad de que 13 o más autos tengan seguro?"
   ]
  },
  {
   "cell_type": "code",
   "execution_count": null,
   "id": "5871dacc-4df0-411c-a2ab-afaec5054da1",
   "metadata": {},
   "outputs": [],
   "source": [
    "prob_13_o_mas = 1 - sum(binom.pmf(k, n, p) for k in range(0, 13))\n",
    "print(\"Probabilidad de que 13 o más autos tengan seguro:\", prob_13_o_mas)"
   ]
  },
  {
   "cell_type": "markdown",
   "id": "7101125c-6deb-4297-b92a-d01c42fb6600",
   "metadata": {},
   "source": [
    "## Ejercicio 10\n",
    "\n",
    "- [Ejercicio anterior](#Ejercicio-9)  \n",
    "- [Ir al Indice](#Contenido)  \n",
    "- [Siguiente ejercicio](#Ejercicio-11)"
   ]
  },
  {
   "cell_type": "markdown",
   "id": "ac09bc44-fdb5-4805-8782-3cf9d3b3c499",
   "metadata": {},
   "source": [
    "#### Con base en la Encuesta Nacional de Juventud 2005, 90% de los adolescentes entre 15 y 19 años afirmó que tuvo su primera relación sexual antes de los 18 años. Si en un grupo hay 20 adolescentes entre 15 y 19 años, entonces: pag. (165)\n",
    "\n",
    "Gutiérrez Banegas, A. L. (2012). Probabilidad y estadística. McGraw-Hill."
   ]
  },
  {
   "cell_type": "markdown",
   "id": "560baf47-f414-48bd-9eaa-b61f88166680",
   "metadata": {},
   "source": [
    "#### Datos del problema:\n",
    "#### Proporción que ha tenido relaciones antes de los 18: 𝑝=0.90\n",
    "#### Total de adolescentes en el grupo: 𝑛=20\n",
    "#### Valor esperado (λ en Poisson): λ=n⋅p=20⋅0.90=18"
   ]
  },
  {
   "cell_type": "markdown",
   "id": "10512b09-20c0-47c7-aff3-bbfc1ec45663",
   "metadata": {},
   "source": [
    "#### a) ¿Cuántos esperarías que contestaran que tuvieron su primera relación sexual antes de los 18 años?"
   ]
  },
  {
   "cell_type": "code",
   "execution_count": null,
   "id": "877d3205-5748-45d7-9728-84336be26b18",
   "metadata": {},
   "outputs": [],
   "source": [
    "n = 20     # número de adolescentes\n",
    "p = 0.90   # probabilidad de que un adolescente diga que tuvo su primera relación sexual antes de los 18\n",
    "# λ=n⋅p\n",
    "esperado = n * p\n",
    "print(f\" Número esperado de adolescentes que contestan que sí: {esperado}\")"
   ]
  },
  {
   "cell_type": "markdown",
   "id": "3dd3c05e-c02a-4167-82ff-fed59f6ea25f",
   "metadata": {},
   "source": [
    "#### b) ¿Cuál es la probabilidad de que 12 de ellos digan que tuvieron su primera relación sexual antes de los 18 años?"
   ]
  },
  {
   "cell_type": "markdown",
   "id": "547190fd-60ef-4fc1-8da5-b4bffb074bb1",
   "metadata": {},
   "source": [
    "\n",
    "La probabilidad de que ocurran exactamente \\( k \\) eventos es:\n",
    "$$\n",
    "P(X = k) = \\frac{e^{-\\lambda} \\cdot \\lambda^k}{k!}\n",
    "$$"
   ]
  },
  {
   "cell_type": "code",
   "execution_count": null,
   "id": "d0e21db1-ae0d-4e8f-b7a7-b3093cdb7a92",
   "metadata": {},
   "outputs": [],
   "source": [
    "# Parámetros de Poisson\n",
    "λ = 18   # valor esperado\n",
    "k = 12   # eventos que queremos calcular\n",
    "# Cálculo manual de la fórmula de Poisson\n",
    "poisson_manual = (math.exp(-λ) * λ**k) / math.factorial(k)\n",
    "print(f\"P(X = {k}) = {poisson_manual:.6f}\")"
   ]
  },
  {
   "cell_type": "markdown",
   "id": "ded764a4-1c7e-4e12-8602-7d2de865c438",
   "metadata": {},
   "source": [
    "#### c) ¿Cuál es la probabilidad de que más de 17 digan que tuvieron su primera relación sexual antes de los 18 años?"
   ]
  },
  {
   "cell_type": "code",
   "execution_count": null,
   "id": "3ddcbb9d-b861-4f3f-bd1d-6d4deb87801b",
   "metadata": {},
   "outputs": [],
   "source": [
    "n = 20\n",
    "p = 0.9\n",
    "\n",
    "# c) P(X > 17) = 1 - P(X ≤ 17)\n",
    "prob_mas_17 = 1 - binom.cdf(17, n, p)\n",
    "print(f\" Probabilidad de que más de 17 digan que sí: {prob_mas_17:.6f}\")"
   ]
  },
  {
   "cell_type": "markdown",
   "id": "98e52285-fc99-44f3-a2af-badf72c6cc31",
   "metadata": {},
   "source": [
    "## Ejercicio 11\n",
    "\n",
    "- [Ejercicio anterior](#Ejercicio-10)  \n",
    "- [Ir al Indice](#Contenido)  \n",
    "- [Siguiente ejercicio](#Ejercicio-12)"
   ]
  },
  {
   "cell_type": "markdown",
   "id": "b57787b1-d400-428b-861d-c9205c114047",
   "metadata": {},
   "source": [
    "#### De acuerdo con los datos proporcionados por la Secretaría de Salud en 2010, 34% de la población utiliza los servicios de salud públicos federales o estatales. Se quiere realizar una encuesta a 50 personas sobre la calidad de los servicios de salud. Encuentra: pag. (165)\n",
    "\n",
    "Gutiérrez Banegas, A. L. (2012). Probabilidad y estadística. McGraw-Hill."
   ]
  },
  {
   "cell_type": "markdown",
   "id": "6884a153-29d3-4d73-a7d7-1553b28fb7d8",
   "metadata": {
    "jp-MarkdownHeadingCollapsed": true
   },
   "source": [
    "##### Datos:\n",
    "\n",
    "##### Porcentaje que usa servicios públicos de salud = 34% = 0.34\n",
    "\n",
    "##### Tamaño de la muestra (personas encuestadas) = 50"
   ]
  },
  {
   "cell_type": "markdown",
   "id": "437acfe8-dc84-4ef8-b792-3647104563d0",
   "metadata": {},
   "source": [
    "#### a) ¿Qué proporción de las personas esperas que asistan a los servicios de salud públicos?"
   ]
  },
  {
   "cell_type": "code",
   "execution_count": null,
   "id": "0fe2965a-20b9-4bb7-8f69-d11ee7cf1700",
   "metadata": {},
   "outputs": [],
   "source": [
    "n = 50     # número de adolescentes\n",
    "p = 0.34   # probabilidad de que un adolescente diga que tuvo su primera relación sexual antes de los 18\n",
    "# λ=n⋅p\n",
    "esperado = n * p\n",
    "print(f\" Número esperado de adolescentes que contestan que sí: {esperado}\")"
   ]
  },
  {
   "cell_type": "markdown",
   "id": "5385d979-41ea-4756-bc88-0622e9b8df08",
   "metadata": {},
   "source": [
    "#### b) ¿Qué probabilidad existe de que 30 personas utilicen los servicios que brinda el gobierno?"
   ]
  },
  {
   "cell_type": "code",
   "execution_count": null,
   "id": "67b3e169-9672-4baf-909d-db2f6784a453",
   "metadata": {},
   "outputs": [],
   "source": [
    "# Parámetros\n",
    "n = 50\n",
    "p = 0.34\n",
    "lambd = n * p  # lambda de Poisson\n",
    "# b) P(X = 30)\n",
    "k = 30\n",
    "prob_30_poisson = poisson.pmf(k, lambd)\n",
    "print(f\" P(X = 30) usando Poisson = {prob_30_poisson:.6f}\")"
   ]
  },
  {
   "cell_type": "markdown",
   "id": "c7062ab8-e82f-417e-b45b-14e024efefaa",
   "metadata": {},
   "source": [
    "#### c) ¿Qué probabilidad hay de que cuando mucho 10 utilicen estos servicios?"
   ]
  },
  {
   "cell_type": "code",
   "execution_count": null,
   "id": "579bf4b8-b88f-45ed-9d9c-26a96e86cd7d",
   "metadata": {},
   "outputs": [],
   "source": [
    "# Parámetros\n",
    "n = 50\n",
    "p = 0.34\n",
    "lambd = n * p  # lambda de Poisson\n",
    "# c) P(X <= 10)\n",
    "prob_max_10_poisson = poisson.cdf(10, lambd)\n",
    "print(f\" P(X ≤ 10) usando Poisson = {prob_max_10_poisson:.6f}\")"
   ]
  },
  {
   "cell_type": "markdown",
   "id": "bce53018-1fcd-4be2-9741-797a50ead7a5",
   "metadata": {},
   "source": [
    "## Ejercicio 12\n",
    "\n",
    "- [Ejercicio anterior](#Ejercicio-11)  \n",
    "- [Ir al Indice](#Contenido)\n",
    "- [Siguiente ejercicio](#Ejercicio-13)"
   ]
  },
  {
   "cell_type": "markdown",
   "id": "6bfcb7a9-62b7-4c3b-b8e6-9e8f7ca2e868",
   "metadata": {},
   "source": [
    "\n",
    "#### Según encuestas realizadas, uno de cada cuatro adolescentes estaría dispuesto a so- meterse a una cirugía plástica para parecerse a alguna personalidad como David Beckham, Usher o Justin Bieber. Supón que 15 personas asisten a una reunión. pag. (165)\n",
    "\n",
    "Gutiérrez Banegas, A. L. (2012). Probabilidad y estadística. McGraw-Hill."
   ]
  },
  {
   "cell_type": "markdown",
   "id": "ae1c06c4-36dc-481b-8143-73db33f0e3d9",
   "metadata": {},
   "source": [
    "##### Datos del problema:\n",
    "##### Probabilidad de éxito (p): 1 de cada 4 adolescentes = 0.25.\n",
    "##### Número de ensayos (n): 15 personas.\n",
    "##### Poisson se aproxima con:\n",
    "#####        λ=n⋅p=15⋅0.25=3.75"
   ]
  },
  {
   "cell_type": "markdown",
   "id": "4a1e77ce-7763-43b7-810d-7b9a4ecb95d0",
   "metadata": {},
   "source": [
    "#### a) ¿Cuál es la probabilidad de que al menos 10 de ellas quisieran parecerse a alguna personalidad?"
   ]
  },
  {
   "cell_type": "code",
   "execution_count": null,
   "id": "d40f700b-b4e4-46c0-848a-5926e3d87c68",
   "metadata": {},
   "outputs": [],
   "source": [
    "# Parámetros\n",
    "n = 15\n",
    "p = 0.25\n",
    "lambd = n * p  # λ para Poisson\n",
    "\n",
    "# a) P(X ≥ 10) = 1 - P(X ≤ 9)\n",
    "prob_10_o_mas = 1 - poisson.cdf(9, lambd)\n",
    "print(f\" P(X ≥ 10) usando Poisson = {prob_10_o_mas:.6f}\")\n",
    "\n"
   ]
  },
  {
   "cell_type": "markdown",
   "id": "70423e60-08a7-47a9-9c5a-abc097aea3b9",
   "metadata": {},
   "source": [
    "#### b) ¿Cuál es la probabilidad de que exactamente cinco quisieran practicarse una cirugía plástica?"
   ]
  },
  {
   "cell_type": "code",
   "execution_count": null,
   "id": "c1a01178-3f36-453c-804a-e8558bd02150",
   "metadata": {},
   "outputs": [],
   "source": [
    "# Parámetros\n",
    "n = 15\n",
    "p = 0.25\n",
    "lambd = n * p  # λ para Poisson\n",
    "\n",
    "\n",
    "# b) P(X = 5)\n",
    "prob_exacto_5 = poisson.pmf(5, lambd)\n",
    "print(f\"b) P(X = 5) usando Poisson = {prob_exacto_5:.6f}\")\n"
   ]
  },
  {
   "cell_type": "markdown",
   "id": "18f0fe35-330a-4e7c-a266-85a3c1f20176",
   "metadata": {},
   "source": [
    "## Ejercicio 13\n",
    "\n",
    "- [Ejercicio Anterior](#Ejercicio-12)\n",
    "- [Ir al Indice](#Contenido)\n",
    "- [Siguiente Ejercicio](#Ejercicio-14)\n"
   ]
  },
  {
   "cell_type": "markdown",
   "id": "476f9a00-46a8-4719-84f9-6ec1b51f2a0b",
   "metadata": {},
   "source": [
    "#### Economía. El Mar de Cortés, en México, es la zona donde se localiza el mayor número degranjas dedicadas al cultivo de ostras perleras. Según los productores, 3.6 de cada cien ostras pueden llegar a tener un buen valor comercial. Si tenemos 150 ostras(Pag. 165)\n",
    "\n",
    "Gutiérrez Banegas, A. L. (2012). Probabilidad y estadística. McGraw-Hill.\n",
    "\n",
    "- a) Probabilidad de que exactamente 12 ostras tengan perlas valiosas\n",
    "- b) Probabilidad de que cuando mucho dos tengan perlas valiosas\n",
    "\n",
    "\n",
    "Calcularemos \n",
    "- λ= 3.6% × 150 = 0.036 × 150 = 5.4\n",
    "\n",
    "* \\(P(X = 12)\\)  \n",
    "* \\(P(X≤2)=P(0)+P(1)+P(2)\\)\n"
   ]
  },
  {
   "cell_type": "code",
   "execution_count": 23,
   "id": "e2270c94-4b9f-444f-8d51-369c7b152e4d",
   "metadata": {},
   "outputs": [
    {
     "name": "stdout",
     "output_type": "stream",
     "text": [
      "P(X = 12) = 0.00579693\n",
      "P(X ≤ 2)  = 0.0948\n"
     ]
    }
   ],
   "source": [
    "import math\n",
    "\n",
    "# λ para las ostras\n",
    "lam = 5.4\n",
    "\n",
    "def poisson_pmf(k, lam):\n",
    "    \"\"\"Función de masa de probabilidad de Poisson.\"\"\"\n",
    "    return math.exp(-lam) * lam**k / math.factorial(k)\n",
    "\n",
    "# Incisos\n",
    "p_12  = poisson_pmf(12, lam)\n",
    "p_le2 = sum(poisson_pmf(k, lam) for k in range(3))\n",
    "\n",
    "print(f\"P(X = 12) = {p_12:.8f}\")\n",
    "print(f\"P(X ≤ 2)  = {p_le2:.4f}\")\n"
   ]
  },
  {
   "cell_type": "markdown",
   "id": "fe4bc187-a628-42fe-8103-ca5bdc346156",
   "metadata": {},
   "source": [
    "## Ejercicio 14\n",
    "\n",
    "- [Ejercicio Anterior](#Ejercicio-13)\n",
    "- [Ir al Indice](#Contenido)\n",
    "- [Siguiete Ejercicio](#Ejercicio-15)"
   ]
  },
  {
   "cell_type": "markdown",
   "id": "00827f09-766b-43f1-a416-2f10389c512b",
   "metadata": {},
   "source": [
    "#### Salud. De acuerdo con la Encuesta de Consumo de Alcohol, Tabaco y otras Drogas en la Ciu-dad de México (2009), 25.3% de las personas consumen marihuana, drogas inhalables o cocaína. Si tenemos un grupo de 25 personas (Pag. 166)\n",
    "\n",
    "Gutiérrez Banegas, A. L. (2012). Probabilidad y estadística. McGraw-Hill.\n",
    "\n",
    "- a) ¿Cuál es la probabilidad de que 10 personas consuman drogas?\n",
    "- b) ¿Cuál es la probabilidad de que al menos 20 personas consuman?\n",
    "- c) De un grupo de 50 personas, ¿cuántas se espera que consuman drogas?\n",
    "\n",
    "Calcularemos\n",
    "- λ= 25.3% × 25 = 0.253 × 25 = 6.325\n",
    "\n",
    "1. \\(P(X = 10)\\)  \n",
    "2. \\(P(X \\ge 20)\\)  \n",
    "3. Valor esperado para 50 personas\n"
   ]
  },
  {
   "cell_type": "code",
   "execution_count": 22,
   "id": "c1e28131-f623-4fab-9b13-9e0b90a6c2b0",
   "metadata": {},
   "outputs": [
    {
     "name": "stdout",
     "output_type": "stream",
     "text": [
      "P(X = 10) = 0.050574\n",
      "P(X ≥ 20) = 0.00001098\n",
      "Esperanza en 50 personas = 12.650\n"
     ]
    }
   ],
   "source": [
    "lam = 6.325\n",
    "\n",
    "def poisson_cdf(k, lam):\n",
    "    \"\"\"Función de distribución acumulada para Poisson.\"\"\"\n",
    "    return sum(poisson_pmf(i, lam) for i in range(k + 1))\n",
    "\n",
    "# Incisos\n",
    "p_10   = poisson_pmf(10, lam)\n",
    "p_ge20 = 1 - poisson_cdf(19, lam)     # Complemento para X ≥ 20\n",
    "expected_50 = 0.253 * 50              # Valor esperado lineal\n",
    "\n",
    "print(f\"P(X = 10) = {p_10:.6f}\")\n",
    "print(f\"P(X ≥ 20) = {p_ge20:.8f}\")\n",
    "print(f\"Esperanza en 50 personas = {expected_50:.3f}\")"
   ]
  },
  {
   "cell_type": "markdown",
   "id": "5fb2da97-df01-4b4a-ba36-68130cbc540e",
   "metadata": {},
   "source": [
    "## Ejercicio 15\n",
    "\n",
    "- [Ejercicio Anterior](#Ejercicio-14)\n",
    "- [Ir al Indice](#Contenido)\n"
   ]
  },
  {
   "cell_type": "markdown",
   "id": "f9a9b826-0366-470b-b740-9f9bfaeebaf6",
   "metadata": {},
   "source": [
    "#### Demografía. De acuerdo con cifras del Censo Poblacional 2010, en México hay, en promedio, 3.9 habitantes por vivienda. Con esta información: (Pag.166)\n",
    "\n",
    "Gutiérrez Banegas, A. L. (2012). Probabilidad y estadística. McGraw-Hill.\n",
    "\n",
    "- a) Construye la distribución de probabilidad y la gráfica.\n",
    "- b) Probabilidad de que una vivienda tenga 5 personas\n",
    "- c) Probabilidad de que vivan más de 3 personas\n",
    "\n",
    "* Distribución de probabilidad  \n",
    "* Gráfica  \n",
    "* \\(P(X = 5)\\)  \n",
    "* \\(P(X > 3)\\)\n"
   ]
  },
  {
   "cell_type": "code",
   "execution_count": 21,
   "id": "df123f2a-29bd-413a-a343-577a4552bf45",
   "metadata": {},
   "outputs": [
    {
     "data": {
      "image/png": "[encoded data removed]",
      "text/plain": [
       "<Figure size 640x480 with 1 Axes>"
      ]
     },
     "metadata": {},
     "output_type": "display_data"
    },
    {
     "name": "stdout",
     "output_type": "stream",
     "text": [
      "P(X = 5) = 0.152\n",
      "P(X > 3) = 0.5468\n"
     ]
    }
   ],
   "source": [
    "lam = 3.9\n",
    "ks  = list(range(9))\n",
    "pmf = [poisson.pmf(k, lam) for k in ks]  # ← Aquí cambia a poisson.pmf\n",
    "\n",
    "# Gráfica\n",
    "plt.bar(ks, pmf)\n",
    "plt.xlabel(\"Habitantes (k)\")\n",
    "plt.ylabel(\"P(X = k)\")\n",
    "plt.title(\"Distribución Poisson λ = 3.9\")\n",
    "plt.show()\n",
    "\n",
    "# Probabilidades solicitadas\n",
    "p5    = poisson.pmf(5, lam)\n",
    "p_le3 = sum(poisson.pmf(k, lam) for k in range(4))  # P(X ≤ 3)\n",
    "p_gt3 = 1 - p_le3                                   # P(X > 3)\n",
    "\n",
    "print(f\"P(X = 5) = {p5:.3f}\")\n",
    "print(f\"P(X > 3) = {p_gt3:.4f}\")\n"
   ]
  }
 ],
 "metadata": {
  "kernelspec": {
   "display_name": "Python 3 (ipykernel)",
   "language": "python",
   "name": "python3"
  },
  "language_info": {
   "codemirror_mode": {
    "name": "ipython",
    "version": 3
   },
   "file_extension": ".py",
   "mimetype": "text/x-python",
   "name": "python",
   "nbconvert_exporter": "python",
   "pygments_lexer": "ipython3",
   "version": "3.13.4"
  }
 },
 "nbformat": 4,
 "nbformat_minor": 5
}
